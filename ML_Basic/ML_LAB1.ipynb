{
  "cells": [
    {
      "cell_type": "code",
      "execution_count": null,
      "metadata": {
        "colab": {
          "base_uri": "https://localhost:8080/"
        },
        "id": "8NKUAyn0-r4l",
        "outputId": "2b189a5b-b22f-4265-817a-d656e906e726"
      },
      "outputs": [
        {
          "name": "stdout",
          "output_type": "stream",
          "text": [
            "Loaded data file loan data.csv with 368 rows and 12 columns\n"
          ]
        }
      ],
      "source": [
        "from csv import reader\n",
        "def load_csv(filename):\n",
        "    file = open(filename, \"r\")\n",
        "    lines = reader(file)\n",
        "    dataset = list(lines)\n",
        "    return dataset\n",
        "\n",
        "# Load dataset\n",
        "filename = 'loan data.csv'  # Corrected filename string\n",
        "dataset = load_csv(filename)\n",
        "print('Loaded data file {0} with {1} rows and {2} columns'.format(filename, len(dataset), len(dataset[0])))"
      ]
    },
    {
      "cell_type": "code",
      "execution_count": null,
      "metadata": {
        "colab": {
          "base_uri": "https://localhost:8080/"
        },
        "id": "sIXUmDv0E_Z9",
        "outputId": "c9aba66a-18f8-492e-e73d-4029c01d9e71"
      },
      "outputs": [
        {
          "name": "stdout",
          "output_type": "stream",
          "text": [
            "Loaded data file Iris.csv with 151 rows and 6 columns\n"
          ]
        }
      ],
      "source": [
        "from csv import reader\n",
        "\n",
        "def load_csv(filename):\n",
        "    dataset = list()\n",
        "    with open(filename, 'r') as file:\n",
        "        csv_reader = reader(file)\n",
        "        for row in csv_reader:\n",
        "            dataset.append(row)\n",
        "\n",
        "    # Remove empty lines at the top of the file\n",
        "    while dataset and not dataset[0]:\n",
        "        dataset.pop(0)\n",
        "\n",
        "    # Remove empty lines at the bottom of the file\n",
        "    while dataset and not dataset[-1]:\n",
        "        dataset.pop(-1)\n",
        "\n",
        "    return dataset\n",
        "\n",
        "\n",
        "# Load dataset\n",
        "filename = 'Iris.csv'  # Corrected filename string\n",
        "dataset = load_csv(filename)\n",
        "print('Loaded data file {0} with {1} rows and {2} columns'.format(filename, len(dataset), len(dataset[0])))"
      ]
    },
    {
      "cell_type": "code",
      "execution_count": null,
      "metadata": {
        "colab": {
          "base_uri": "https://localhost:8080/"
        },
        "id": "M-5WQPD7FLY7",
        "outputId": "61b99e2d-339d-4d38-bc5d-e2c9aa0373b7"
      },
      "outputs": [
        {
          "name": "stdout",
          "output_type": "stream",
          "text": [
            "[['Name', 'Department', 'Section'], [['Wareesha Ali', 'Software Engineering', '']]]\n"
          ]
        }
      ],
      "source": [
        "import numpy as np\n",
        "def detect_missing_values(dataset):\n",
        "    lst=[dataset[0]]\n",
        "    for row in dataset[1:]:\n",
        "        x = []\n",
        "        for i in row:\n",
        "            if i == '':\n",
        "                x.append(row)\n",
        "            if len(x)!=0:\n",
        "                lst.append(x)\n",
        "    print(lst[:5])\n",
        "\n",
        "\n",
        "def handle_missing_values(dataset):\n",
        "    for i in range(1, len(dataset)):\n",
        "        for j in range(len(dataset[0])):\n",
        "            if dataset[i][j] == '':\n",
        "                dataset[i][j] = np.nan\n",
        "    return dataset\n",
        "\n",
        "if __name__ == \"__main__\":\n",
        "  # Sample dataset\n",
        "    df = [\n",
        "      ['Name', 'Department', 'Section'],\n",
        "      ['Wareesha Ali', 'Software Engineering', ''],\n",
        "      ['Saad Ali', 'Computer Science', 'B'],\n",
        "      ['Hamna Mohiuddin', 'Computer SEngineering', 'A'],\n",
        "\n",
        "  ]\n",
        "\n",
        "  # Detect missing values (find rows with missing values)\n",
        "    detect_missing_values(df)"
      ]
    },
    {
      "cell_type": "code",
      "execution_count": null,
      "metadata": {
        "colab": {
          "base_uri": "https://localhost:8080/"
        },
        "id": "J0UaVIeLFsjo",
        "outputId": "5828357e-df13-4196-94fe-dc695c5be4bd"
      },
      "outputs": [
        {
          "name": "stdout",
          "output_type": "stream",
          "text": [
            "[['Name', 'Department', 'Section'], [['Wareesha Ali', 'Software Engineering', '']]]\n"
          ]
        }
      ],
      "source": [
        "import numpy as np\n",
        "def detect_missing_values(dataset):\n",
        "    lst=[dataset[0]]\n",
        "    for row in dataset[1:]:\n",
        "        x = []\n",
        "        for i in row:\n",
        "            if i == '':\n",
        "                x.append(row)\n",
        "            if len(x)!=0:\n",
        "                lst.append(x)\n",
        "    print(lst[:5])\n",
        "\n",
        "\n",
        "def handle_missing_values(dataset):\n",
        "    for i in range(1, len(dataset)):\n",
        "        for j in range(len(dataset[0])):\n",
        "            if dataset[i][j] == '':\n",
        "                dataset[i][j] = np.nan\n",
        "    return dataset\n",
        "\n",
        "if __name__ == \"__main__\":\n",
        "  # Sample dataset\n",
        "    df = [\n",
        "      ['Name', 'Department', 'Section'],\n",
        "      ['Wareesha Ali', 'Software Engineering', ''],\n",
        "      ['Saad Ali', 'Computer Science', 'B'],\n",
        "      ['Hamna Mohiuddin', 'Computer SEngineering', 'A'],\n",
        "  ]\n",
        "\n",
        "  # Detect missing values (find rows with missing values)\n",
        "    detect_missing_values(df)"
      ]
    },
    {
      "cell_type": "code",
      "execution_count": null,
      "metadata": {
        "colab": {
          "base_uri": "https://localhost:8080/"
        },
        "id": "pI4OIBicAqnF",
        "outputId": "40d7a88d-551c-4d0a-9847-1af55113786a"
      },
      "outputs": [
        {
          "name": "stdout",
          "output_type": "stream",
          "text": [
            "Loaded data file Iris.csv with 151 rows and 6 columns\n"
          ]
        }
      ],
      "source": [
        "#TASK1\n",
        "from csv import reader\n",
        "def load_csv(filename):\n",
        "    file = open(filename, \"r\")\n",
        "    lines = reader(file)\n",
        "    dataset = list(lines)\n",
        "    return dataset\n",
        "\n",
        "# Load dataset\n",
        "filename = 'Iris.csv'  # Corrected filename string\n",
        "dataset = load_csv(filename)\n",
        "print('Loaded data file {0} with {1} rows and {2} columns'.format(filename, len(dataset), len(dataset[0])))"
      ]
    },
    {
      "cell_type": "code",
      "execution_count": null,
      "metadata": {
        "colab": {
          "base_uri": "https://localhost:8080/"
        },
        "id": "dC0TbcyFBDVS",
        "outputId": "a73874af-e3aa-4092-fd6b-86ed7a2483aa"
      },
      "outputs": [
        {
          "name": "stdout",
          "output_type": "stream",
          "text": [
            "First 5 rows after conversion and validation:\n",
            "['Id', 'SepalLengthCm', 'SepalWidthCm', 'PetalLengthCm', 'PetalWidthCm', 'Species']\n",
            "['1', '5.1', '3.5', '1.4', '0.2', 'Iris-setosa']\n",
            "['2', '4.9', '3.0', '1.4', '0.2', 'Iris-setosa']\n",
            "['3', '4.7', '3.2', '1.3', '0.2', 'Iris-setosa']\n",
            "['4', '4.6', '3.1', '1.5', '0.2', 'Iris-setosa']\n"
          ]
        }
      ],
      "source": [
        "# task2\n",
        "from csv import reader\n",
        "\n",
        "def load_csv(filename):\n",
        "    dataset = list()\n",
        "    with open(filename, 'r') as file:\n",
        "        csv_reader = reader(file)\n",
        "        for row in csv_reader:\n",
        "            dataset.append(row)\n",
        "    return dataset\n",
        "\n",
        "def validate_dataset(dataset, expected_columns):\n",
        "    valid_dataset = []\n",
        "    invalid_rows = []\n",
        "    for row in dataset:\n",
        "        if len(row) == expected_columns:\n",
        "            valid_dataset.append(row)\n",
        "        else:\n",
        "            invalid_rows.append(row)\n",
        "    for row in invalid_rows:\n",
        "        print(f\"Invalid row: {row}\")\n",
        "    return valid_dataset\n",
        "# Load dataset\n",
        "filename = 'Iris.csv'\n",
        "dataset = load_csv(filename)\n",
        "\n",
        "# Validate dataset to ensure all rows have the same number of columns\n",
        "dataset = validate_dataset(dataset, 6)  # Assuming there are 5 columns in the dataset\n",
        "\n",
        "# Check if conversion and validation worked by printing some rows\n",
        "print(\"First 5 rows after conversion and validation:\")\n",
        "for row in dataset[:5]:\n",
        "    print(row)"
      ]
    },
    {
      "cell_type": "code",
      "execution_count": null,
      "metadata": {
        "colab": {
          "base_uri": "https://localhost:8080/"
        },
        "id": "9Bqa52BdBlLu",
        "outputId": "9352cd68-91eb-41c9-f6b1-f4ae325cd48b"
      },
      "outputs": [
        {
          "name": "stdout",
          "output_type": "stream",
          "text": [
            "First 5 rows after conversion and validation:\n",
            "['Id', 'SepalLengthCm', 'SepalWidthCm', 'PetalLengthCm', None, 'Species']\n",
            "['1', '5.1', '3.5', '1.4', 0.2, 'Iris-setosa']\n",
            "['2', '4.9', '3.0', '1.4', 0.2, 'Iris-setosa']\n",
            "['3', '4.7', '3.2', '1.3', 0.2, 'Iris-setosa']\n",
            "['4', '4.6', '3.1', '1.5', 0.2, 'Iris-setosa']\n"
          ]
        }
      ],
      "source": [
        "# task3\n",
        "from csv import reader\n",
        "\n",
        "def load_csv(filename):\n",
        "    dataset = []\n",
        "    with open(filename, 'r') as file:\n",
        "        csv_reader = reader(file, delimiter=delimiter)\n",
        "        for row in csv_reader:\n",
        "            if not row:\n",
        "                continue\n",
        "            dataset.append(row)\n",
        "    return dataset\n",
        "\n",
        "def str_column_to_float(dataset, column):\n",
        "    for row in dataset:\n",
        "        try:\n",
        "            row[column] = float(row[column].strip())\n",
        "        except ValueError:\n",
        "            row[column] = None  # Handle missing or non-numeric values\n",
        "\n",
        "\n",
        "\n",
        "# Handle missing values in a column (replace with None)\n",
        "str_column_to_float(dataset, 4)  # Assuming column 0 contains numeric values\n",
        "\n",
        "\n",
        "# Check if conversion and validation worked by printing some rows\n",
        "print(\"First 5 rows after conversion and validation:\")\n",
        "for row in dataset[:5]:\n",
        "    print(row)\n"
      ]
    },
    {
      "cell_type": "code",
      "execution_count": null,
      "metadata": {
        "id": "vSTP_mGiD0rb"
      },
      "outputs": [],
      "source": []
    }
  ],
  "metadata": {
    "colab": {
      "provenance": []
    },
    "kernelspec": {
      "display_name": "Python 3",
      "name": "python3"
    },
    "language_info": {
      "name": "python"
    }
  },
  "nbformat": 4,
  "nbformat_minor": 0
}
